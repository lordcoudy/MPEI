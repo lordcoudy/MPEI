{
 "cells": [
  {
   "cell_type": "code",
   "execution_count": 1,
   "id": "4a5a0208",
   "metadata": {},
   "outputs": [],
   "source": [
    "import json "
   ]
  },
  {
   "cell_type": "code",
   "execution_count": 2,
   "id": "7ae666d2",
   "metadata": {},
   "outputs": [],
   "source": [
    "from web3 import Web3 "
   ]
  },
  {
   "cell_type": "code",
   "execution_count": 39,
   "id": "c2682c9e",
   "metadata": {},
   "outputs": [],
   "source": [
    "from web3.middleware import geth_poa_middleware"
   ]
  },
  {
   "cell_type": "code",
   "execution_count": 3,
   "id": "2c3b6ef3",
   "metadata": {},
   "outputs": [],
   "source": [
    "ganache_url = \"HTTP://194.59.40.99:8545\""
   ]
  },
  {
   "cell_type": "code",
   "execution_count": 40,
   "id": "c7c4cce8",
   "metadata": {},
   "outputs": [],
   "source": [
    "# Inject the PoA middleware to the innermost layer\n",
    "web3.middleware_onion.inject(geth_poa_middleware, layer=0)\n"
   ]
  },
  {
   "cell_type": "code",
   "execution_count": 4,
   "id": "9cc8adfb",
   "metadata": {},
   "outputs": [],
   "source": [
    "web3 = Web3 (Web3.HTTPProvider(ganache_url))"
   ]
  },
  {
   "cell_type": "code",
   "execution_count": 30,
   "id": "e736668c",
   "metadata": {},
   "outputs": [
    {
     "data": {
      "text/plain": [
       "True"
      ]
     },
     "execution_count": 30,
     "metadata": {},
     "output_type": "execute_result"
    }
   ],
   "source": [
    "web3.isConnected()"
   ]
  },
  {
   "cell_type": "code",
   "execution_count": 65,
   "id": "1ef3da51",
   "metadata": {},
   "outputs": [
    {
     "data": {
      "text/plain": [
       "'0x21336A107110b9f28B8263e4B50883556F1fc010'"
      ]
     },
     "execution_count": 65,
     "metadata": {},
     "output_type": "execute_result"
    }
   ],
   "source": [
    "web3.eth.accounts[3]"
   ]
  },
  {
   "cell_type": "code",
   "execution_count": 32,
   "id": "bb89941d",
   "metadata": {},
   "outputs": [],
   "source": [
    "abi = json.loads(\"[{\\\"constant\\\":false,\\\"inputs\\\":[],\\\"name\\\":\\\"enter\\\",\\\"outputs\\\":[],\\\"payable\\\":true,\\\"stateMutability\\\":\\\"payable\\\",\\\"type\\\":\\\"function\\\"},{\\\"constant\\\":false,\\\"inputs\\\":[],\\\"name\\\":\\\"pickWinner\\\",\\\"outputs\\\":[],\\\"payable\\\":false,\\\"stateMutability\\\":\\\"nonpayable\\\",\\\"type\\\":\\\"function\\\"},{\\\"inputs\\\":[],\\\"payable\\\":false,\\\"stateMutability\\\":\\\"nonpayable\\\",\\\"type\\\":\\\"constructor\\\"},{\\\"constant\\\":true,\\\"inputs\\\":[],\\\"name\\\":\\\"getBalance\\\",\\\"outputs\\\":[{\\\"internalType\\\":\\\"uint256\\\",\\\"name\\\":\\\"\\\",\\\"type\\\":\\\"uint256\\\"}],\\\"payable\\\":false,\\\"stateMutability\\\":\\\"view\\\",\\\"type\\\":\\\"function\\\"},{\\\"constant\\\":true,\\\"inputs\\\":[],\\\"name\\\":\\\"getPlayers\\\",\\\"outputs\\\":[{\\\"internalType\\\":\\\"addresspayable[]\\\",\\\"name\\\":\\\"\\\",\\\"type\\\":\\\"address[]\\\"}],\\\"payable\\\":false,\\\"stateMutability\\\":\\\"view\\\",\\\"type\\\":\\\"function\\\"},{\\\"constant\\\":true,\\\"inputs\\\":[],\\\"name\\\":\\\"manager\\\",\\\"outputs\\\":[{\\\"internalType\\\":\\\"address\\\",\\\"name\\\":\\\"\\\",\\\"type\\\":\\\"address\\\"}],\\\"payable\\\":false,\\\"stateMutability\\\":\\\"view\\\",\\\"type\\\":\\\"function\\\"},{\\\"constant\\\":true,\\\"inputs\\\":[{\\\"internalType\\\":\\\"uint256\\\",\\\"name\\\":\\\"\\\",\\\"type\\\":\\\"uint256\\\"}],\\\"name\\\":\\\"players\\\",\\\"outputs\\\":[{\\\"internalType\\\":\\\"addresspayable\\\",\\\"name\\\":\\\"\\\",\\\"type\\\":\\\"address\\\"}],\\\"payable\\\":false,\\\"stateMutability\\\":\\\"view\\\",\\\"type\\\":\\\"function\\\"},{\\\"constant\\\":true,\\\"inputs\\\":[],\\\"name\\\":\\\"random\\\",\\\"outputs\\\":[{\\\"internalType\\\":\\\"uint256\\\",\\\"name\\\":\\\"\\\",\\\"type\\\":\\\"uint256\\\"}],\\\"payable\\\":false,\\\"stateMutability\\\":\\\"view\\\",\\\"type\\\":\\\"function\\\"}]\")"
   ]
  },
  {
   "cell_type": "code",
   "execution_count": 33,
   "id": "bd13abce",
   "metadata": {},
   "outputs": [],
   "source": [
    "byteCode = \"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\""
   ]
  },
  {
   "cell_type": "code",
   "execution_count": 34,
   "id": "760f56f8",
   "metadata": {},
   "outputs": [],
   "source": [
    "Lottery = web3.eth.contract(abi=abi, bytecode = byteCode)"
   ]
  },
  {
   "cell_type": "code",
   "execution_count": 37,
   "id": "4701e569",
   "metadata": {},
   "outputs": [],
   "source": [
    "contract = web3.eth.contract(address = '0x9b937836F420168504DF3aEEcBa7666c7F7E9a91', abi = abi)"
   ]
  },
  {
   "cell_type": "code",
   "execution_count": 89,
   "id": "03d1f0a3",
   "metadata": {},
   "outputs": [
    {
     "name": "stdout",
     "output_type": "stream",
     "text": [
      "['0xF8Dba4967fAE46eF0B1Ad6c96679df71b29B922D', '0x01C4eFD81Ede5C507A92C74955dab0e9AA91386A', '0x21336A107110b9f28B8263e4B50883556F1fc010']\n"
     ]
    }
   ],
   "source": [
    "print(contract.functions.getPlayers().call())"
   ]
  },
  {
   "cell_type": "code",
   "execution_count": 83,
   "id": "b6dbdbc5",
   "metadata": {},
   "outputs": [],
   "source": [
    "# Specify your account and private key (ensure secure handling of private keys)\n",
    "account = web3.eth.accounts[3]\n",
    "# Your account private key (NEVER hard code in production or expose publicly)\n",
    "private_key = '6bb062ddedcb9f40085b0083b3e810f94ddf5dc6bf74a4a0ee8d2430898ac244'"
   ]
  },
  {
   "cell_type": "code",
   "execution_count": 67,
   "id": "351ebb23",
   "metadata": {},
   "outputs": [
    {
     "name": "stdout",
     "output_type": "stream",
     "text": [
      "0xfc049e9f80ad7af2832435e8f479b30a77fe0a888ffd06eca21b1eb8c67e9960\n"
     ]
    }
   ],
   "source": [
    "# Create the transaction dictionary including the chain ID\n",
    "chain_id = web3.eth.chainId  # Automatically fetches the current chain ID\n",
    "transaction = {\n",
    "    'to': '0xF8Dba4967fAE46eF0B1Ad6c96679df71b29B922D',\n",
    "    'value': web3.toWei(20, 'ether'),\n",
    "    'gas': 200000,\n",
    "    'gasPrice': web3.toWei('500', 'gwei'),\n",
    "    'nonce': web3.eth.getTransactionCount(account),\n",
    "    'chainId': chain_id\n",
    "}\n",
    "\n",
    "\n",
    "# Sign the transaction\n",
    "signed_txn = web3.eth.account.sign_transaction(transaction, private_key)\n",
    "\n",
    "# Send the signed transaction\n",
    "tx_hash = web3.eth.sendRawTransaction(signed_txn.rawTransaction)\n",
    "\n",
    "# Get the transaction hash\n",
    "print(web3.toHex(tx_hash))"
   ]
  },
  {
   "cell_type": "code",
   "execution_count": 72,
   "id": "4276203a",
   "metadata": {},
   "outputs": [],
   "source": [
    "tx_receipt = web3.eth.waitForTransactionReceipt(tx_hash)"
   ]
  },
  {
   "cell_type": "code",
   "execution_count": 73,
   "id": "1b277389",
   "metadata": {},
   "outputs": [
    {
     "data": {
      "text/plain": [
       "AttributeDict({'blockHash': HexBytes('0x3ac8de51bc1efc61fe95c7b09a54d005f7f529efa32c7d3d3c14a5be073b8392'),\n",
       " 'blockNumber': 2191271,\n",
       " 'contractAddress': None,\n",
       " 'cumulativeGasUsed': 21000,\n",
       " 'effectiveGasPrice': 500000000000,\n",
       " 'from': '0x21336A107110b9f28B8263e4B50883556F1fc010',\n",
       " 'gasUsed': 21000,\n",
       " 'logs': [],\n",
       " 'logsBloom': HexBytes('0x00000000000000000000000000000000000000000000000000000000000000000000000000000000000000000000000000000000000000000000000000000000000000000000000000000000000000000000000000000000000000000000000000000000000000000000000000000000000000000000000000000000000000000000000000000000000000000000000000000000000000000000000000000000000000000000000000000000000000000000000000000000000000000000000000000000000000000000000000000000000000000000000000000000000000000000000000000000000000000000000000000000000000000000000000000000'),\n",
       " 'status': 1,\n",
       " 'to': '0xF8Dba4967fAE46eF0B1Ad6c96679df71b29B922D',\n",
       " 'transactionHash': HexBytes('0xfc049e9f80ad7af2832435e8f479b30a77fe0a888ffd06eca21b1eb8c67e9960'),\n",
       " 'transactionIndex': 0,\n",
       " 'type': '0x0'})"
      ]
     },
     "execution_count": 73,
     "metadata": {},
     "output_type": "execute_result"
    }
   ],
   "source": [
    "tx_receipt"
   ]
  },
  {
   "cell_type": "code",
   "execution_count": 13,
   "id": "2a3f6483",
   "metadata": {},
   "outputs": [
    {
     "data": {
      "text/plain": [
       "HexBytes('0xd7632ca8e4b61da19b32691128805ffa189a3181a146f9421e579e00df204883')"
      ]
     },
     "execution_count": 13,
     "metadata": {},
     "output_type": "execute_result"
    }
   ],
   "source": [
    "tx_hash"
   ]
  },
  {
   "cell_type": "code",
   "execution_count": 14,
   "id": "91a1d385",
   "metadata": {},
   "outputs": [],
   "source": [
    "tx_receipt = web3.eth.waitForTransactionReceipt(tx_hash)"
   ]
  },
  {
   "cell_type": "code",
   "execution_count": 15,
   "id": "ec5a8de4",
   "metadata": {},
   "outputs": [
    {
     "data": {
      "text/plain": [
       "AttributeDict({'transactionHash': HexBytes('0xd7632ca8e4b61da19b32691128805ffa189a3181a146f9421e579e00df204883'),\n",
       " 'transactionIndex': 0,\n",
       " 'blockHash': HexBytes('0xd68fa649a4325f10d3c503d05bd94f581914b6387b624f25313d8b48065af421'),\n",
       " 'blockNumber': 5,\n",
       " 'from': '0x6eD499D73c372bd53F2b3c5FC867C0273c2298A3',\n",
       " 'to': '0x3bb6c37288575122d363fa49Ced3d7385098280C',\n",
       " 'gasUsed': 48036,\n",
       " 'cumulativeGasUsed': 48036,\n",
       " 'contractAddress': None,\n",
       " 'logs': [],\n",
       " 'status': 1,\n",
       " 'logsBloom': HexBytes('0x00000000000000000000000000000000000000000000000000000000000000000000000000000000000000000000000000000000000000000000000000000000000000000000000000000000000000000000000000000000000000000000000000000000000000000000000000000000000000000000000000000000000000000000000000000000000000000000000000000000000000000000000000000000000000000000000000000000000000000000000000000000000000000000000000000000000000000000000000000000000000000000000000000000000000000000000000000000000000000000000000000000000000000000000000000000')})"
      ]
     },
     "execution_count": 15,
     "metadata": {},
     "output_type": "execute_result"
    }
   ],
   "source": [
    "tx_receipt"
   ]
  },
  {
   "cell_type": "code",
   "execution_count": null,
   "id": "6f435620",
   "metadata": {},
   "outputs": [],
   "source": []
  },
  {
   "cell_type": "code",
   "execution_count": null,
   "id": "43edfa8d",
   "metadata": {},
   "outputs": [],
   "source": []
  },
  {
   "cell_type": "code",
   "execution_count": 80,
   "id": "200a15c2",
   "metadata": {},
   "outputs": [
    {
     "name": "stdout",
     "output_type": "stream",
     "text": [
      "The private key matches the address.\n"
     ]
    }
   ],
   "source": [
    "from web3 import Web3\n",
    "from web3.auto import w3\n",
    "from eth_account import Account\n",
    "# Assume you have the private key stored securely, not hard-coded\n",
    "private_key = '6bb062ddedcb9f40085b0083b3e810f94ddf5dc6bf74a4a0ee8d2430898ac244'\n",
    "account = Account.from_key(private_key)\n",
    "\n",
    "if account.address.lower() == web3.eth.accounts[3].lower():\n",
    "    print(\"The private key matches the address.\")\n",
    "else:\n",
    "    print(\"Mismatch! The private key does not match the address.\")\n",
    "    \n"
   ]
  },
  {
   "cell_type": "code",
   "execution_count": 81,
   "id": "5d816957",
   "metadata": {},
   "outputs": [
    {
     "name": "stdout",
     "output_type": "stream",
     "text": [
      "Current Chain ID:  51515\n"
     ]
    }
   ],
   "source": [
    "current_chain_id = web3.eth.chain_id\n",
    "print(\"Current Chain ID: \", current_chain_id)"
   ]
  },
  {
   "cell_type": "code",
   "execution_count": 85,
   "id": "793d767f",
   "metadata": {},
   "outputs": [],
   "source": [
    "sender_address = web3.eth.accounts[3]  # Update as necessary\n",
    "\n",
    "# Ensure the chain ID and nonce are correctly fetched\n",
    "nonce = web3.eth.getTransactionCount(sender_address)\n",
    "chain_id = web3.eth.chain_id\n",
    "\n",
    "# Build the transaction\n",
    "transaction = contract.functions.enter().buildTransaction({\n",
    "    'from': sender_address,\n",
    "    'value': web3.toWei(40, 'ether'),  # Adjust value as necessary\n",
    "    'gas': 300000,\n",
    "    'gasPrice': web3.toWei(100, 'gwei'),  # If not using EIP-1559, use 'gasPrice' instead of 'maxFeePerGas'\n",
    "    'nonce': nonce,\n",
    "    'chainId': chain_id\n",
    "})"
   ]
  },
  {
   "cell_type": "code",
   "execution_count": 86,
   "id": "3844f0ba",
   "metadata": {},
   "outputs": [],
   "source": [
    "signed_txn = web3.eth.account.sign_transaction(transaction, private_key)"
   ]
  },
  {
   "cell_type": "code",
   "execution_count": 87,
   "id": "c9dcd12f",
   "metadata": {},
   "outputs": [],
   "source": [
    "tx_hash = web3.eth.sendRawTransaction(signed_txn.rawTransaction)"
   ]
  },
  {
   "cell_type": "code",
   "execution_count": 88,
   "id": "4f784455",
   "metadata": {},
   "outputs": [
    {
     "name": "stdout",
     "output_type": "stream",
     "text": [
      "Transaction receipt: AttributeDict({'blockHash': HexBytes('0xaba4a30510b80920db8ce2940ff169744ffa0fb2434c01d29c3a1314d9188705'), 'blockNumber': 2191646, 'contractAddress': None, 'cumulativeGasUsed': 48036, 'effectiveGasPrice': 100000000000, 'from': '0x21336A107110b9f28B8263e4B50883556F1fc010', 'gasUsed': 48036, 'logs': [], 'logsBloom': HexBytes('0x00000000000000000000000000000000000000000000000000000000000000000000000000000000000000000000000000000000000000000000000000000000000000000000000000000000000000000000000000000000000000000000000000000000000000000000000000000000000000000000000000000000000000000000000000000000000000000000000000000000000000000000000000000000000000000000000000000000000000000000000000000000000000000000000000000000000000000000000000000000000000000000000000000000000000000000000000000000000000000000000000000000000000000000000000000000'), 'status': 1, 'to': '0x9b937836F420168504DF3aEEcBa7666c7F7E9a91', 'transactionHash': HexBytes('0xba34ce166db986bd1a951c57f206dc45b667e036309948e279d44ff8d89f45f4'), 'transactionIndex': 0, 'type': '0x0'})\n"
     ]
    }
   ],
   "source": [
    "# Wait for the transaction to be mined\n",
    "receipt = web3.eth.waitForTransactionReceipt(tx_hash)\n",
    "print(\"Transaction receipt:\", receipt)"
   ]
  },
  {
   "cell_type": "code",
   "execution_count": null,
   "id": "ad3c3699",
   "metadata": {},
   "outputs": [],
   "source": []
  }
 ],
 "metadata": {
  "kernelspec": {
   "display_name": "Python 3 (ipykernel)",
   "language": "python",
   "name": "python3"
  },
  "language_info": {
   "codemirror_mode": {
    "name": "ipython",
    "version": 3
   },
   "file_extension": ".py",
   "mimetype": "text/x-python",
   "name": "python",
   "nbconvert_exporter": "python",
   "pygments_lexer": "ipython3",
   "version": "3.9.7"
  }
 },
 "nbformat": 4,
 "nbformat_minor": 5
}
